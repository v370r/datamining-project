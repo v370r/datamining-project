{
 "cells": [
  {
   "cell_type": "code",
   "execution_count": 769,
   "metadata": {},
   "outputs": [],
   "source": [
    "import numpy as np \n",
    "import pandas as pd \n",
    "import torch\n",
    "from torch.utils.data import Dataset\n",
    "from torch.utils.data import random_split,DataLoader\n",
    "import yfinance as yf\n",
    "from torch.nn.utils.rnn import pad_sequence\n",
    "import torch.nn as nn\n",
    "import matplotlib.pyplot as plt"
   ]
  },
  {
   "cell_type": "code",
   "execution_count": 770,
   "metadata": {},
   "outputs": [],
   "source": [
    "if torch.cuda.is_available():\n",
    "    device = torch.device(\"cuda\")  # Use CUDA\n",
    "elif torch.backends.mps.is_available():\n",
    "    device = torch.device(\"mps\")  # Use MPS\n",
    "else:\n",
    "    device = torch.device(\"cpu\")  # Fallback to CPU"
   ]
  },
  {
   "cell_type": "code",
   "execution_count": 771,
   "metadata": {},
   "outputs": [],
   "source": [
    "df = pd.read_csv(\"sentimentadded.csv\")\n",
    "\n",
    "individual_reports = []\n",
    "\n",
    "for i,group in df.groupby(\"time\"):\n",
    "    for j,ticker in group.groupby(\"ticker\"):\n",
    "        individual_reports.append(ticker)\n",
    "\n",
    "stock_data = {}\n",
    "        \n",
    "for ticker in df[\"ticker\"].unique():\n",
    "    t = yf.Ticker(ticker)\n",
    "    stock_data[ticker] = t.history('max')"
   ]
  },
  {
   "cell_type": "code",
   "execution_count": 772,
   "metadata": {},
   "outputs": [],
   "source": [
    "for key in stock_data:\n",
    "    #stock_data[key] = (stock_data[key][\"Close\"]-stock_data[key][\"Close\"].values[0])/stock_data[key][\"Close\"].std()\n",
    "    # Ratio of returns \n",
    "    stock_data[key] = stock_data[key][\"Close\"]/stock_data[key][\"Close\"].values[0] - 1"
   ]
  },
  {
   "cell_type": "code",
   "execution_count": 773,
   "metadata": {},
   "outputs": [
    {
     "name": "stdout",
     "output_type": "stream",
     "text": [
      "Date\n",
      "1999-01-22 00:00:00-05:00       0.000000\n",
      "1999-01-25 00:00:00-05:00       0.104764\n",
      "1999-01-26 00:00:00-05:00       0.019041\n",
      "1999-01-27 00:00:00-05:00       0.015872\n",
      "1999-01-28 00:00:00-05:00       0.012678\n",
      "                                ...     \n",
      "2024-12-04 00:00:00-05:00    3857.284403\n",
      "2024-12-05 00:00:00-05:00    3855.423257\n",
      "2024-12-06 00:00:00-05:00    3785.770629\n",
      "2024-12-09 00:00:00-05:00    3689.266868\n",
      "2024-12-10 00:00:00-05:00    3589.839145\n",
      "Name: Close, Length: 6514, dtype: float64\n"
     ]
    }
   ],
   "source": [
    "print(stock_data[\"NVDA\"])"
   ]
  },
  {
   "cell_type": "code",
   "execution_count": 774,
   "metadata": {},
   "outputs": [],
   "source": [
    "numin = set()\n",
    "for report in individual_reports:\n",
    "    for unqt in report[\"tag\"].unique():\n",
    "        numin.add(unqt)\n",
    "\n",
    "indmap = {}\n",
    "\n",
    "for i,j in enumerate(numin):\n",
    "    indmap[j] = i"
   ]
  },
  {
   "cell_type": "code",
   "execution_count": 775,
   "metadata": {},
   "outputs": [],
   "source": [
    "class StockDataset(Dataset):\n",
    "    def __init__(self,reports,historical_data):\n",
    "        self.reports = reports\n",
    "        self.historical_data = historical_data\n",
    "        self.data_len = 0\n",
    "        self.data_blocks = []\n",
    "        self.sent_blocks = []\n",
    "        self.labels = []\n",
    "\n",
    "        self.construct_dataset()\n",
    "\n",
    "    def get_year_data(self,year,ticker):\n",
    "        \"\"\"Get a specific year of stock data to build block\"\"\"\n",
    "        mask = stock_data[ticker].index.year == year\n",
    "        filtered_data = stock_data[ticker][mask]\n",
    "        return filtered_data.values\n",
    "    \n",
    "    def split_to_windows(self,stock_data,window_size=60):\n",
    "        windows = np.array([stock_data[i:i + window_size] for i in range(len(stock_data) - window_size)])\n",
    "        labels = np.array([stock_data[i + window_size] for i in range(len(stock_data) - window_size)])\n",
    "        return windows,labels\n",
    "\n",
    "    def construct_dataset(self):\n",
    "        for report in self.reports:\n",
    "            # map sentiments to specific spot in area to keep consistent\n",
    "            sentiment_values = np.zeros(len(indmap))\n",
    "            for i,row in report.iterrows():\n",
    "                tag = row[\"tag\"]\n",
    "                sentiment_values[indmap[tag]] = (row[\"sentiment\"] * 2) - 1 # make a distance -1 and 1 \n",
    "            \n",
    "            # get corresponding year\n",
    "            stock_values = self.get_year_data(report[\"year\"].values[0],report[\"ticker\"].values[0])\n",
    "            #split into windows of 60\n",
    "            windows,labels = self.split_to_windows(stock_values)\n",
    "\n",
    "            for i,window in enumerate(windows):\n",
    "                # construct one X-y pair\n",
    "                lab = report[\"percentage_change\"].unique()[0]\n",
    "                db = torch.from_numpy(window).to(torch.float32)\n",
    "                self.data_blocks.append(db)\n",
    "                sb = torch.from_numpy(sentiment_values).to(torch.float32)\n",
    "                self.sent_blocks.append(sb)\n",
    "                labt = torch.tensor([labels[i]]).to(torch.float32)\n",
    "                self.labels.append(labt)\n",
    "        \n",
    "        #self.data_blocks = pad_sequence(self.data_blocks,batch_first=True,padding_value=0)\n",
    "    \n",
    "    def create_one_stock(self,stock):\n",
    "        osblocks = [] # one stock blocks sentiments and labels\n",
    "        ossents = []\n",
    "        oslabs = []\n",
    "        for report in self.reports:\n",
    "            if(report[\"ticker\"].values[0] != stock):\n",
    "                continue\n",
    "            # map sentiments to specific spot in area to keep consistent\n",
    "            sentiment_values = np.zeros(len(indmap))\n",
    "            for i,row in report.iterrows():\n",
    "                tag = row[\"tag\"]\n",
    "                sentiment_values[indmap[tag]] = (row[\"sentiment\"] * 2) - 1 # make a distance -1 and 1 \n",
    "            \n",
    "            # get corresponding year\n",
    "            stock_values = self.get_year_data(report[\"year\"].values[0],report[\"ticker\"].values[0])\n",
    "            #split into windows of 60\n",
    "            windows,labels = self.split_to_windows(stock_values)\n",
    "\n",
    "            for i,window in enumerate(windows):\n",
    "                # construct one X-y pair\n",
    "                db = torch.from_numpy(window).to(torch.float32)\n",
    "                osblocks.append(db)\n",
    "                sb = torch.from_numpy(sentiment_values).to(torch.float32)\n",
    "                ossents.append(sb)\n",
    "                labt = torch.tensor([labels[i]]).to(torch.float32)\n",
    "                oslabs.append(labt)\n",
    "        \n",
    "        #osblocks = pad_sequence(self.data_blocks,batch_first=True,padding_value=0)\n",
    "\n",
    "        xlist = []\n",
    "\n",
    "        for i, block in enumerate(osblocks):\n",
    "            xlist.append((block,ossents[i],oslabs[i]))\n",
    "\n",
    "        return xlist\n",
    "\n",
    "    def __len__(self):\n",
    "        return len(self.data_blocks)\n",
    "\n",
    "    def __getitem__(self, idx):\n",
    "        return self.data_blocks[idx],self.sent_blocks[idx],self.labels[idx]\n",
    "    \n",
    "sd = StockDataset(individual_reports,stock_data)"
   ]
  },
  {
   "cell_type": "code",
   "execution_count": 776,
   "metadata": {},
   "outputs": [],
   "source": [
    "train_dataset, test_dataset = random_split(sd, [0.8, 0.2])\n",
    "train_dataloader = DataLoader(train_dataset, batch_size=64, shuffle=True)\n",
    "test_dataloader = DataLoader(test_dataset, batch_size=64, shuffle=True)"
   ]
  },
  {
   "cell_type": "code",
   "execution_count": 777,
   "metadata": {},
   "outputs": [],
   "source": [
    "class PricePredictor(nn.Module):\n",
    "    def __init__(self):\n",
    "        super().__init__()\n",
    "\n",
    "        # LSTM Layer hidden state \n",
    "        self.stock_layer = nn.LSTM(60,1024,5) \n",
    "\n",
    "        self.sent_layer = nn.Sequential(\n",
    "            #Stock layer + sent_layer for final pred\n",
    "            nn.Linear(1024+6,512),\n",
    "            nn.ReLU(),\n",
    "            nn.Linear(512,512),\n",
    "            nn.ReLU(),\n",
    "            nn.Linear(512,1),\n",
    "            nn.ReLU()\n",
    "        )\n",
    "\n",
    "    def forward(self,stock,sent):\n",
    "        lstm_out = self.stock_layer(stock)[0] # Get return from lstm\n",
    "        return self.sent_layer(torch.hstack((lstm_out.squeeze(1),sent)))"
   ]
  },
  {
   "cell_type": "code",
   "execution_count": 778,
   "metadata": {},
   "outputs": [],
   "source": [
    "def train_loop(dataloader, model, loss_fn, optimizer):\n",
    "    size = len(dataloader.dataset)\n",
    "\n",
    "    model.train()\n",
    "    for batch, (stockx,sentx, y) in enumerate(dataloader):\n",
    "        # Compute prediction and loss\n",
    "        x1 = stockx.unsqueeze(1).to(device)\n",
    "        x2 = sentx.to(device)\n",
    "        pred = model.forward(x1,x2)\n",
    "        #pred = model(stockx,sentx)\n",
    "        loss = loss_fn(pred, y.to(device))\n",
    "\n",
    "\n",
    "        # Backpropagation\n",
    "        loss.backward()\n",
    "        optimizer.step()\n",
    "        optimizer.zero_grad()\n",
    "\n",
    "        if batch % 100 == 0:\n",
    "            loss, current = loss.item(), batch * 64 + len(stockx)\n",
    "            print(f\"loss: {loss:>7f}  [{current:>5d}/{size:>5d}]\")\n",
    "\n",
    "\n",
    "def test_loop(dataloader, model, loss_fn):\n",
    "    # Set the model to evaluation mode - important for batch normalization and dropout layers\n",
    "    # Unnecessary in this situation but added for best practices\n",
    "    model.eval()\n",
    "    num_batches = len(dataloader)\n",
    "    test_loss = 0\n",
    "\n",
    "    # Evaluating the model with torch.no_grad() ensures that no gradients are computed during test mode\n",
    "    # also serves to reduce unnecessary gradient computations and memory usage for tensors with requires_grad=True\n",
    "    with torch.no_grad():\n",
    "        for stockx,sentx, y in dataloader:\n",
    "            pred = model.forward(stockx.unsqueeze(1).to(device),sentx.to(device))\n",
    "            test_loss += loss_fn(pred, y.to(device)).item()\n",
    "    test_loss /= num_batches\n",
    "    print(f\"Accum loss {test_loss}\")"
   ]
  },
  {
   "cell_type": "code",
   "execution_count": 780,
   "metadata": {},
   "outputs": [
    {
     "name": "stdout",
     "output_type": "stream",
     "text": [
      "Epoch 1\n",
      "-------------------------------\n",
      "loss: 229886.500000  [   64/ 8277]\n",
      "loss: 320141.718750  [ 6464/ 8277]\n",
      "Epoch 2\n",
      "-------------------------------\n",
      "loss: 188424.250000  [   64/ 8277]\n",
      "loss: 362261.187500  [ 6464/ 8277]\n",
      "Epoch 3\n",
      "-------------------------------\n",
      "loss: 176808.500000  [   64/ 8277]\n",
      "loss: 119660.460938  [ 6464/ 8277]\n",
      "Epoch 4\n",
      "-------------------------------\n",
      "loss: 285176.937500  [   64/ 8277]\n",
      "loss: 256292.062500  [ 6464/ 8277]\n",
      "Epoch 5\n",
      "-------------------------------\n",
      "loss: 253177.031250  [   64/ 8277]\n",
      "loss: 196333.062500  [ 6464/ 8277]\n",
      "Done!\n"
     ]
    }
   ],
   "source": [
    "model = PricePredictor()\n",
    "model = model.to(device)\n",
    "\n",
    "loss_fn = nn.MSELoss()\n",
    "optimizer = torch.optim.Adam(model.parameters(), lr=1e-3)\n",
    "\n",
    "epochs = 5\n",
    "for t in range(epochs):\n",
    "    print(f\"Epoch {t+1}\\n-------------------------------\")\n",
    "    train_loop(train_dataloader, model, loss_fn, optimizer)\n",
    "    #test_loop(train_dataloader, model, loss_fn)\n",
    "print(\"Done!\")"
   ]
  },
  {
   "cell_type": "code",
   "execution_count": null,
   "metadata": {},
   "outputs": [
    {
     "name": "stdout",
     "output_type": "stream",
     "text": [
      "Accum loss 162408.87121212122\n"
     ]
    }
   ],
   "source": [
    "test_loop(test_dataloader,model,loss_fn)"
   ]
  },
  {
   "cell_type": "code",
   "execution_count": null,
   "metadata": {},
   "outputs": [
    {
     "name": "stdout",
     "output_type": "stream",
     "text": [
      "1916\n"
     ]
    }
   ],
   "source": [
    "os = sd.create_one_stock(\"NVDA\")\n",
    "print(len(os))\n",
    "preds = []\n",
    "\n",
    "for stockx,sentx,_ in os:\n",
    "    pred = model.forward(stockx.unsqueeze(0).to(device),sentx.to(device).unsqueeze(0))\n",
    "    preds.append(pred.cpu().detach().numpy())"
   ]
  },
  {
   "cell_type": "code",
   "execution_count": null,
   "metadata": {},
   "outputs": [],
   "source": [
    "preds = np.array(preds).reshape((1916))"
   ]
  },
  {
   "cell_type": "code",
   "execution_count": 781,
   "metadata": {},
   "outputs": [
    {
     "data": {
      "text/plain": [
       "[<matplotlib.lines.Line2D at 0x34ab755b0>]"
      ]
     },
     "execution_count": 781,
     "metadata": {},
     "output_type": "execute_result"
    },
    {
     "data": {
      "image/png": "[encoded data removed]",
      "text/plain": [
       "<Figure size 640x480 with 1 Axes>"
      ]
     },
     "metadata": {},
     "output_type": "display_data"
    }
   ],
   "source": [
    "#plt.plot(list(range(len(stock_data[\"NVDA\"]))),stock_data[\"NVDA\"])\n",
    "plt.plot(list(range(len(preds))),preds)"
   ]
  }
 ],
 "metadata": {
  "kernelspec": {
   "display_name": "Python 3",
   "language": "python",
   "name": "python3"
  },
  "language_info": {
   "codemirror_mode": {
    "name": "ipython",
    "version": 3
   },
   "file_extension": ".py",
   "mimetype": "text/x-python",
   "name": "python",
   "nbconvert_exporter": "python",
   "pygments_lexer": "ipython3",
   "version": "3.12.4"
  }
 },
 "nbformat": 4,
 "nbformat_minor": 2
}

{
 "cells": [
  {
   "cell_type": "code",
   "execution_count": 1,
   "metadata": {},
   "outputs": [
    {
     "name": "stderr",
     "output_type": "stream",
     "text": [
      "Token indices sequence length is longer than the specified maximum sequence length for this model (6066 > 512). Running this sequence through the model will result in indexing errors\n"
     ]
    },
    {
     "name": "stdout",
     "output_type": "stream",
     "text": [
      "0.0\n"
     ]
    }
   ],
   "source": [
    "import sqlite3\n",
    "import pandas as pd\n",
    "from sentiment import SentimentAnalyzer\n",
    "from tqdm import tqdm"
   ]
  },
  {
   "cell_type": "code",
   "execution_count": 2,
   "metadata": {},
   "outputs": [],
   "source": [
    "df = pd.read_csv(\"out.csv\")\n",
    "df[\"sentiment\"] = None"
   ]
  },
  {
   "cell_type": "code",
   "execution_count": 3,
   "metadata": {},
   "outputs": [
    {
     "name": "stderr",
     "output_type": "stream",
     "text": [
      "  0%|          | 0/54 [00:00<?, ?it/s]Token indices sequence length is longer than the specified maximum sequence length for this model (9994 > 512). Running this sequence through the model will result in indexing errors\n",
      "100%|██████████| 54/54 [00:51<00:00,  1.04it/s]\n"
     ]
    }
   ],
   "source": [
    "tags = [\"RF\",\"URFC\",\"Comments\",\"Cybersecurity\",\"Properties\",\"MDAFC\",\"QQDMR\",\"FSSD\"]\n",
    "sans = SentimentAnalyzer()\n",
    "\n",
    "sents = []\n",
    "\n",
    "for i,row in tqdm(df.iterrows(),total=len(df)):\n",
    "    sans.add_text(row[\"value\"])\n",
    "    sents.append(sans.get_sentiment_batch())\n",
    "    sans.reset()"
   ]
  },
  {
   "cell_type": "code",
   "execution_count": 4,
   "metadata": {},
   "outputs": [],
   "source": [
    "df[\"sentiment\"] = sents"
   ]
  },
  {
   "cell_type": "code",
   "execution_count": 5,
   "metadata": {},
   "outputs": [],
   "source": [
    "df.to_csv(\"sentimentadded.csv\")"
   ]
  }
 ],
 "metadata": {
  "kernelspec": {
   "display_name": "Python 3",
   "language": "python",
   "name": "python3"
  },
  "language_info": {
   "codemirror_mode": {
    "name": "ipython",
    "version": 3
   },
   "file_extension": ".py",
   "mimetype": "text/x-python",
   "name": "python",
   "nbconvert_exporter": "python",
   "pygments_lexer": "ipython3",
   "version": "3.12.4"
  }
 },
 "nbformat": 4,
 "nbformat_minor": 2
}

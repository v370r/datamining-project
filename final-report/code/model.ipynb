{
 "cells": [
  {
   "cell_type": "code",
   "execution_count": 258,
   "metadata": {},
   "outputs": [],
   "source": [
    "import numpy as np \n",
    "import pandas as pd \n",
    "import torch\n",
    "from torch.utils.data import Dataset\n",
    "from torch.utils.data import random_split,DataLoader\n",
    "import yfinance as yf\n",
    "from torch.nn.utils.rnn import pad_sequence\n",
    "import torch.nn as nn\n",
    "import matplotlib.pyplot as plt"
   ]
  },
  {
   "cell_type": "code",
   "execution_count": 259,
   "metadata": {},
   "outputs": [],
   "source": [
    "if torch.cuda.is_available():\n",
    "    device = torch.device(\"cuda\")  # Use CUDA\n",
    "elif torch.backends.mps.is_available():\n",
    "    device = torch.device(\"mps\")  # Use MPS\n",
    "else:\n",
    "    device = torch.device(\"cpu\")  # Fallback to CPU"
   ]
  },
  {
   "cell_type": "code",
   "execution_count": 260,
   "metadata": {},
   "outputs": [],
   "source": [
    "df = pd.read_csv(\"sentimentadded.csv\")\n",
    "\n",
    "individual_reports = []\n",
    "\n",
    "for i,group in df.groupby(\"time\"):\n",
    "    for j,ticker in group.groupby(\"ticker\"):\n",
    "        individual_reports.append(ticker)\n",
    "\n",
    "stock_data = {}\n",
    "        \n",
    "for ticker in df[\"ticker\"].unique():\n",
    "    t = yf.Ticker(ticker)\n",
    "    stock_data[ticker] = t.history('max')"
   ]
  },
  {
   "cell_type": "code",
   "execution_count": 261,
   "metadata": {},
   "outputs": [],
   "source": [
    "for key in stock_data:\n",
    "    stock_data[key] = (stock_data[key][\"Close\"]-stock_data[key][\"Close\"].values[0])/stock_data[key][\"Close\"].std()\n",
    "    # Ratio of returns \n",
    "    #stock_data[key] = stock_data[key][\"Close\"]/stock_data[key][\"Close\"].values[0] - 1"
   ]
  },
  {
   "cell_type": "code",
   "execution_count": 263,
   "metadata": {},
   "outputs": [],
   "source": [
    "numin = set()\n",
    "for report in individual_reports:\n",
    "    for unqt in report[\"tag\"].unique():\n",
    "        numin.add(unqt)\n",
    "\n",
    "indmap = {}\n",
    "\n",
    "for i,j in enumerate(numin):\n",
    "    indmap[j] = i"
   ]
  },
  {
   "cell_type": "code",
   "execution_count": 264,
   "metadata": {},
   "outputs": [],
   "source": [
    "class StockDataset(Dataset):\n",
    "    def __init__(self,reports,historical_data):\n",
    "        self.reports = reports\n",
    "        self.historical_data = historical_data\n",
    "        self.data_len = 0\n",
    "        self.data_blocks = []\n",
    "        self.sent_blocks = []\n",
    "        self.labels = []\n",
    "\n",
    "        self.construct_dataset()\n",
    "\n",
    "    def get_year_data(self,year,ticker):\n",
    "        \"\"\"Get a specific year of stock data to build block\"\"\"\n",
    "        mask = stock_data[ticker].index.year == year\n",
    "        filtered_data = stock_data[ticker][mask]\n",
    "        return filtered_data.values\n",
    "    \n",
    "    def split_to_windows(self,stock_data,window_size=60):\n",
    "        windows = np.array([stock_data[i:i + window_size] for i in range(len(stock_data) - window_size)])\n",
    "        labels = np.array([stock_data[i + window_size] for i in range(len(stock_data) - window_size)])\n",
    "        return windows,labels\n",
    "\n",
    "    def construct_dataset(self):\n",
    "        for report in self.reports:\n",
    "            # map sentiments to specific spot in area to keep consistent\n",
    "            # if(report[\"ticker\"].values[0] != \"NVDA\"):\n",
    "            #     continue\n",
    "            sentiment_values = np.zeros(len(indmap))\n",
    "            for i,row in report.iterrows():\n",
    "                tag = row[\"tag\"]\n",
    "                sentiment_values[indmap[tag]] = (row[\"sentiment\"] * 2) - 1 # make a distance -1 and 1 \n",
    "            \n",
    "            # get corresponding year\n",
    "            stock_values = self.get_year_data(report[\"year\"].values[0],report[\"ticker\"].values[0])\n",
    "            #split into windows of 60\n",
    "            windows,labels = self.split_to_windows(stock_values)\n",
    "\n",
    "            for i,window in enumerate(windows):\n",
    "                # construct one X-y pair\n",
    "                lab = report[\"percentage_change\"].unique()[0]\n",
    "                db = torch.from_numpy(window).to(torch.float32)\n",
    "                self.data_blocks.append(db)\n",
    "                sb = torch.from_numpy(sentiment_values).to(torch.float32)\n",
    "                self.sent_blocks.append(sb)\n",
    "                labt = torch.tensor([labels[i]]).to(torch.float32)\n",
    "                self.labels.append(labt)\n",
    "        \n",
    "        #self.data_blocks = pad_sequence(self.data_blocks,batch_first=True,padding_value=0)\n",
    "    \n",
    "    def create_one_stock(self,stock):\n",
    "        osblocks = [] # one stock blocks sentiments and labels\n",
    "        ossents = []\n",
    "        oslabs = []\n",
    "        for report in self.reports:\n",
    "            if(report[\"ticker\"].values[0] != stock):\n",
    "                continue\n",
    "            # map sentiments to specific spot in area to keep consistent\n",
    "            sentiment_values = np.zeros(len(indmap))\n",
    "            for i,row in report.iterrows():\n",
    "                tag = row[\"tag\"]\n",
    "                sentiment_values[indmap[tag]] = (row[\"sentiment\"] * 2) - 1 # make a distance -1 and 1 \n",
    "            \n",
    "            # get corresponding year\n",
    "            stock_values = self.get_year_data(report[\"year\"].values[0],report[\"ticker\"].values[0])\n",
    "            #split into windows of 60\n",
    "            windows,labels = self.split_to_windows(stock_values)\n",
    "\n",
    "            for i,window in enumerate(windows):\n",
    "                # construct one X-y pair\n",
    "                db = torch.from_numpy(window).to(torch.float32)\n",
    "                osblocks.append(db)\n",
    "                sb = torch.from_numpy(sentiment_values).to(torch.float32)\n",
    "                ossents.append(sb)\n",
    "                labt = torch.tensor([labels[i]]).to(torch.float32)\n",
    "                oslabs.append(labt)\n",
    "        \n",
    "        #osblocks = pad_sequence(self.data_blocks,batch_first=True,padding_value=0)\n",
    "\n",
    "        xlist = []\n",
    "\n",
    "        for i, block in enumerate(osblocks):\n",
    "            xlist.append((block,ossents[i],oslabs[i]))\n",
    "\n",
    "        return xlist\n",
    "\n",
    "    def __len__(self):\n",
    "        return len(self.data_blocks)\n",
    "\n",
    "    def __getitem__(self, idx):\n",
    "        return self.data_blocks[idx],self.sent_blocks[idx],self.labels[idx]\n",
    "    \n",
    "sd = StockDataset(individual_reports,stock_data)"
   ]
  },
  {
   "cell_type": "code",
   "execution_count": 265,
   "metadata": {},
   "outputs": [],
   "source": [
    "train_dataset, test_dataset = random_split(sd, [0.8, 0.2])\n",
    "train_dataloader = DataLoader(train_dataset, batch_size=64, shuffle=True)\n",
    "test_dataloader = DataLoader(test_dataset, batch_size=64, shuffle=True)"
   ]
  },
  {
   "cell_type": "code",
   "execution_count": 266,
   "metadata": {},
   "outputs": [],
   "source": [
    "class PricePredictor(nn.Module):\n",
    "    def __init__(self):\n",
    "        super().__init__()\n",
    "\n",
    "        # LSTM Layer hidden state \n",
    "        self.stock_layer = nn.LSTM(1,512,5) \n",
    "\n",
    "        self.sent_layer = nn.Sequential(\n",
    "            #Stock layer + sent_layer for final pred\n",
    "            nn.Linear((512*60)+1,512),\n",
    "            nn.ReLU(),\n",
    "            nn.Linear(512,512),\n",
    "            nn.ReLU(),\n",
    "            nn.Linear(512,1),\n",
    "            nn.ReLU()\n",
    "        )\n",
    "\n",
    "    def forward(self,stock,sent,debug=False):\n",
    "        lstm_out = self.stock_layer(stock)[0]# Get return from lstm\n",
    "        if(len(lstm_out.shape) == 2):\n",
    "            # If doing single not batch\n",
    "            lstm_out = lstm_out.flatten().unsqueeze(0)\n",
    "        else:\n",
    "            lstm_out = lstm_out.flatten(start_dim=1)\n",
    "        if(debug):\n",
    "            print(lstm_out.shape)\n",
    "            print(sent.shape)\n",
    "        return self.sent_layer(torch.hstack((lstm_out,sent)))\n",
    "    \n"
   ]
  },
  {
   "cell_type": "code",
   "execution_count": 267,
   "metadata": {},
   "outputs": [],
   "source": [
    "def train_loop(dataloader, model, loss_fn, optimizer):\n",
    "    size = len(dataloader.dataset)\n",
    "\n",
    "    model.train()\n",
    "    for batch, (stockx,sentx, y) in enumerate(dataloader):\n",
    "        # Compute prediction and loss\n",
    "        x1 = stockx.unsqueeze(2).to(device)\n",
    "        x2 = sentx.to(device)\n",
    "        pred = model.forward(x1,x2)\n",
    "        #pred = model(stockx,sentx)\n",
    "        loss = loss_fn(pred, y.to(device))\n",
    "\n",
    "\n",
    "        # Backpropagation\n",
    "        loss.backward()\n",
    "        optimizer.step()\n",
    "        optimizer.zero_grad()\n",
    "\n",
    "        if batch % 100 == 0:\n",
    "            loss, current = loss.item(), batch * 64 + len(stockx)\n",
    "            print(f\"loss: {loss:>7f}  [{current:>5d}/{size:>5d}]\")\n",
    "\n",
    "\n",
    "def test_loop(dataloader, model, loss_fn):\n",
    "    # Set the model to evaluation mode - important for batch normalization and dropout layers\n",
    "    # Unnecessary in this situation but added for best practices\n",
    "    model.eval()\n",
    "    num_batches = len(dataloader)\n",
    "    test_loss = 0\n",
    "\n",
    "    # Evaluating the model with torch.no_grad() ensures that no gradients are computed during test mode\n",
    "    # also serves to reduce unnecessary gradient computations and memory usage for tensors with requires_grad=True\n",
    "    with torch.no_grad():\n",
    "        for stockx,sentx, y in dataloader:\n",
    "            pred = model.forward(stockx.unsqueeze(2).to(device),sentx.to(device))\n",
    "            test_loss += loss_fn(pred, y.to(device)).item()\n",
    "    test_loss /= num_batches\n",
    "    print(f\"Accum loss {test_loss}\")"
   ]
  },
  {
   "cell_type": "code",
   "execution_count": null,
   "metadata": {},
   "outputs": [],
   "source": []
  },
  {
   "cell_type": "code",
   "execution_count": 281,
   "metadata": {},
   "outputs": [
    {
     "name": "stdout",
     "output_type": "stream",
     "text": [
      "Epoch 1\n",
      "-------------------------------\n",
      "loss: 2.544807  [   64/ 8277]\n",
      "loss: 2.261772  [ 6464/ 8277]\n",
      "Epoch 2\n",
      "-------------------------------\n",
      "loss: 2.970549  [   64/ 8277]\n",
      "loss: 2.018893  [ 6464/ 8277]\n",
      "Epoch 3\n",
      "-------------------------------\n",
      "loss: 3.138684  [   64/ 8277]\n",
      "loss: 3.178496  [ 6464/ 8277]\n",
      "Epoch 4\n",
      "-------------------------------\n",
      "loss: 2.755105  [   64/ 8277]\n",
      "loss: 2.771969  [ 6464/ 8277]\n",
      "Epoch 5\n",
      "-------------------------------\n",
      "loss: 2.911466  [   64/ 8277]\n",
      "loss: 3.897084  [ 6464/ 8277]\n",
      "Done!\n"
     ]
    }
   ],
   "source": [
    "model = PricePredictor()\n",
    "model = model.to(device)\n",
    "\n",
    "loss_fn = nn.MSELoss()\n",
    "optimizer = torch.optim.Adam(model.parameters(), lr=1e-3)\n",
    "\n",
    "epochs = 5\n",
    "for t in range(epochs):\n",
    "    print(f\"Epoch {t+1}\\n-------------------------------\")\n",
    "    train_loop(train_dataloader, model, loss_fn, optimizer)\n",
    "    #test_loop(train_dataloader, model, loss_fn)\n",
    "print(\"Done!\")"
   ]
  },
  {
   "cell_type": "code",
   "execution_count": 284,
   "metadata": {},
   "outputs": [
    {
     "name": "stdout",
     "output_type": "stream",
     "text": [
      "Accum loss 2.7067442735036216\n"
     ]
    }
   ],
   "source": [
    "test_loop(test_dataloader,model,loss_fn)"
   ]
  },
  {
   "cell_type": "code",
   "execution_count": 286,
   "metadata": {},
   "outputs": [
    {
     "name": "stdout",
     "output_type": "stream",
     "text": [
      "1916\n"
     ]
    }
   ],
   "source": [
    "os = sd.create_one_stock(\"AAPL\")\n",
    "print(len(os))\n",
    "preds = []\n",
    "\n",
    "for stockx,sentx,_ in os:\n",
    "    sx = stockx.unsqueeze(1).to(device)\n",
    "    pred = model(sx,sentx.to(device).unsqueeze(0))\n",
    "    preds.append(pred.cpu().detach().numpy())"
   ]
  },
  {
   "cell_type": "code",
   "execution_count": 287,
   "metadata": {},
   "outputs": [],
   "source": [
    "preds = np.array(preds).reshape((1916))"
   ]
  },
  {
   "cell_type": "code",
   "execution_count": 288,
   "metadata": {},
   "outputs": [
    {
     "data": {
      "text/plain": [
       "Timestamp('1980-12-12 00:00:00-0500', tz='America/New_York')"
      ]
     },
     "execution_count": 288,
     "metadata": {},
     "output_type": "execute_result"
    }
   ],
   "source": [
    "min(df[\"time\"])\n",
    "min(stock_data[\"AAPL\"].index)"
   ]
  },
  {
   "cell_type": "code",
   "execution_count": 289,
   "metadata": {},
   "outputs": [
    {
     "data": {
      "text/plain": [
       "5475"
      ]
     },
     "execution_count": 289,
     "metadata": {},
     "output_type": "execute_result"
    }
   ],
   "source": [
    "(2014-1999)*365"
   ]
  },
  {
   "cell_type": "code",
   "execution_count": 298,
   "metadata": {},
   "outputs": [
    {
     "data": {
      "text/plain": [
       "10"
      ]
     },
     "execution_count": 298,
     "metadata": {},
     "output_type": "execute_result"
    }
   ],
   "source": [
    "len(df.loc[df[\"ticker\"] == \"AAPL\"])"
   ]
  },
  {
   "cell_type": "code",
   "execution_count": 304,
   "metadata": {},
   "outputs": [
    {
     "data": {
      "text/plain": [
       "Timestamp('1980-12-12 00:00:00-0500', tz='America/New_York')"
      ]
     },
     "execution_count": 304,
     "metadata": {},
     "output_type": "execute_result"
    }
   ],
   "source": [
    "min(stock_data[\"AAPL\"].index)"
   ]
  },
  {
   "cell_type": "code",
   "execution_count": 306,
   "metadata": {},
   "outputs": [
    {
     "data": {
      "text/plain": [
       "Text(0.5, 1.0, 'AAPL prediction in multi-stock model')"
      ]
     },
     "execution_count": 306,
     "metadata": {},
     "output_type": "execute_result"
    },
    {
     "data": {
      "image/png": "[encoded data removed]",
      "text/plain": [
       "<Figure size 640x480 with 1 Axes>"
      ]
     },
     "metadata": {},
     "output_type": "display_data"
    }
   ],
   "source": [
    "plt.plot(list(range(len(stock_data[\"AAPL\"]))),stock_data[\"AAPL\"])\n",
    "\n",
    "num_first_10k = (2014-1981)*280\n",
    "plt.plot(list(range(num_first_10k,num_first_10k+len(preds))),preds)\n",
    "plt.xlabel(\"Days 0 at 12-12-1980\")\n",
    "plt.ylabel(\"Standard deviations from start\")\n",
    "plt.title(\"AAPL prediction in multi-stock model\")"
   ]
  }
 ],
 "metadata": {
  "kernelspec": {
   "display_name": "Python 3",
   "language": "python",
   "name": "python3"
  },
  "language_info": {
   "codemirror_mode": {
    "name": "ipython",
    "version": 3
   },
   "file_extension": ".py",
   "mimetype": "text/x-python",
   "name": "python",
   "nbconvert_exporter": "python",
   "pygments_lexer": "ipython3",
   "version": "3.12.4"
  }
 },
 "nbformat": 4,
 "nbformat_minor": 2
}

{
 "cells": [
  {
   "cell_type": "code",
   "execution_count": null,
   "metadata": {},
   "outputs": [],
   "source": []
  },
  {
   "cell_type": "markdown",
   "metadata": {},
   "source": [
    "### Automation Tool to download File links from a given website"
   ]
  },
  {
   "cell_type": "code",
   "execution_count": 14,
   "metadata": {},
   "outputs": [
    {
     "name": "stderr",
     "output_type": "stream",
     "text": [
      "The system cannot find the path specified.\n"
     ]
    },
    {
     "name": "stdout",
     "output_type": "stream",
     "text": [
      "Requirement already satisfied: selenium in c:\\users\\vecto\\appdata\\local\\programs\\python\\python311\\lib\\site-packages (4.8.3)\n",
      "Collecting selenium\n",
      "  Obtaining dependency information for selenium from https://files.pythonhosted.org/packages/91/08/10cff8463b3510b78f9e3dcef6b37c542b06d71ed1240a8940ba0c75d3bc/selenium-4.26.1-py3-none-any.whl.metadata\n",
      "  Downloading selenium-4.26.1-py3-none-any.whl.metadata (7.1 kB)\n",
      "Requirement already satisfied: urllib3[socks]<3,>=1.26 in c:\\users\\vecto\\appdata\\local\\programs\\python\\python311\\lib\\site-packages (from selenium) (1.26.15)\n",
      "Requirement already satisfied: trio~=0.17 in c:\\users\\vecto\\appdata\\local\\programs\\python\\python311\\lib\\site-packages (from selenium) (0.22.0)\n",
      "Requirement already satisfied: trio-websocket~=0.9 in c:\\users\\vecto\\appdata\\local\\programs\\python\\python311\\lib\\site-packages (from selenium) (0.10.2)\n",
      "Requirement already satisfied: certifi>=2021.10.8 in c:\\users\\vecto\\appdata\\local\\programs\\python\\python311\\lib\\site-packages (from selenium) (2023.5.7)\n",
      "Collecting typing_extensions~=4.9 (from selenium)\n",
      "  Obtaining dependency information for typing_extensions~=4.9 from https://files.pythonhosted.org/packages/26/9f/ad63fc0248c5379346306f8668cda6e2e2e9c95e01216d2b8ffd9ff037d0/typing_extensions-4.12.2-py3-none-any.whl.metadata\n",
      "  Downloading typing_extensions-4.12.2-py3-none-any.whl.metadata (3.0 kB)\n",
      "Collecting websocket-client~=1.8 (from selenium)\n",
      "  Obtaining dependency information for websocket-client~=1.8 from https://files.pythonhosted.org/packages/5a/84/44687a29792a70e111c5c477230a72c4b957d88d16141199bf9acb7537a3/websocket_client-1.8.0-py3-none-any.whl.metadata\n",
      "  Downloading websocket_client-1.8.0-py3-none-any.whl.metadata (8.0 kB)\n",
      "Requirement already satisfied: attrs>=19.2.0 in c:\\users\\vecto\\appdata\\local\\programs\\python\\python311\\lib\\site-packages (from trio~=0.17->selenium) (23.1.0)\n",
      "Requirement already satisfied: sortedcontainers in c:\\users\\vecto\\appdata\\local\\programs\\python\\python311\\lib\\site-packages (from trio~=0.17->selenium) (2.4.0)\n",
      "Requirement already satisfied: async-generator>=1.9 in c:\\users\\vecto\\appdata\\local\\programs\\python\\python311\\lib\\site-packages (from trio~=0.17->selenium) (1.10)\n",
      "Requirement already satisfied: idna in c:\\users\\vecto\\appdata\\local\\programs\\python\\python311\\lib\\site-packages (from trio~=0.17->selenium) (3.4)\n",
      "Requirement already satisfied: outcome in c:\\users\\vecto\\appdata\\local\\programs\\python\\python311\\lib\\site-packages (from trio~=0.17->selenium) (1.2.0)\n",
      "Requirement already satisfied: sniffio in c:\\users\\vecto\\appdata\\local\\programs\\python\\python311\\lib\\site-packages (from trio~=0.17->selenium) (1.3.0)\n",
      "Requirement already satisfied: cffi>=1.14 in c:\\users\\vecto\\appdata\\local\\programs\\python\\python311\\lib\\site-packages (from trio~=0.17->selenium) (1.15.1)\n",
      "Requirement already satisfied: exceptiongroup in c:\\users\\vecto\\appdata\\local\\programs\\python\\python311\\lib\\site-packages (from trio-websocket~=0.9->selenium) (1.1.1)\n",
      "Requirement already satisfied: wsproto>=0.14 in c:\\users\\vecto\\appdata\\local\\programs\\python\\python311\\lib\\site-packages (from trio-websocket~=0.9->selenium) (1.2.0)\n",
      "Requirement already satisfied: PySocks!=1.5.7,<2.0,>=1.5.6 in c:\\users\\vecto\\appdata\\local\\programs\\python\\python311\\lib\\site-packages (from urllib3[socks]<3,>=1.26->selenium) (1.7.1)\n",
      "Requirement already satisfied: pycparser in c:\\users\\vecto\\appdata\\local\\programs\\python\\python311\\lib\\site-packages (from cffi>=1.14->trio~=0.17->selenium) (2.21)\n",
      "Requirement already satisfied: h11<1,>=0.9.0 in c:\\users\\vecto\\appdata\\local\\programs\\python\\python311\\lib\\site-packages (from wsproto>=0.14->trio-websocket~=0.9->selenium) (0.14.0)\n",
      "Downloading selenium-4.26.1-py3-none-any.whl (9.7 MB)\n",
      "   ---------------------------------------- 0.0/9.7 MB ? eta -:--:--\n",
      "   - -------------------------------------- 0.4/9.7 MB 8.1 MB/s eta 0:00:02\n",
      "   ---- ----------------------------------- 1.0/9.7 MB 10.2 MB/s eta 0:00:01\n",
      "   ------ --------------------------------- 1.7/9.7 MB 11.8 MB/s eta 0:00:01\n",
      "   ----------- ---------------------------- 2.7/9.7 MB 14.2 MB/s eta 0:00:01\n",
      "   ---------------- ----------------------- 3.9/9.7 MB 16.6 MB/s eta 0:00:01\n",
      "   ---------------------- ----------------- 5.4/9.7 MB 19.2 MB/s eta 0:00:01\n",
      "   ------------------------------ --------- 7.5/9.7 MB 22.7 MB/s eta 0:00:01\n",
      "   ---------------------------------------  9.5/9.7 MB 25.3 MB/s eta 0:00:01\n",
      "   ---------------------------------------- 9.7/9.7 MB 23.8 MB/s eta 0:00:00\n",
      "Downloading typing_extensions-4.12.2-py3-none-any.whl (37 kB)\n",
      "Downloading websocket_client-1.8.0-py3-none-any.whl (58 kB)\n",
      "   ---------------------------------------- 0.0/58.8 kB ? eta -:--:--\n",
      "   ---------------------------------------- 58.8/58.8 kB ? eta 0:00:00\n",
      "Installing collected packages: websocket-client, typing_extensions, selenium\n",
      "  Attempting uninstall: websocket-client\n",
      "    Found existing installation: websocket-client 1.7.0\n",
      "    Uninstalling websocket-client-1.7.0:\n",
      "      Successfully uninstalled websocket-client-1.7.0\n",
      "  Attempting uninstall: typing_extensions\n",
      "    Found existing installation: typing_extensions 4.8.0\n",
      "    Uninstalling typing_extensions-4.8.0:\n",
      "      Successfully uninstalled typing_extensions-4.8.0\n",
      "  Attempting uninstall: selenium\n",
      "    Found existing installation: selenium 4.8.3\n",
      "    Uninstalling selenium-4.8.3:\n",
      "      Successfully uninstalled selenium-4.8.3\n",
      "Successfully installed selenium-4.26.1 typing_extensions-4.12.2 websocket-client-1.8.0\n"
     ]
    },
    {
     "name": "stderr",
     "output_type": "stream",
     "text": [
      "\n",
      "[notice] A new release of pip is available: 23.2.1 -> 24.3.1\n",
      "[notice] To update, run: python.exe -m pip install --upgrade pip\n"
     ]
    },
    {
     "name": "stdout",
     "output_type": "stream",
     "text": [
      "Requirement already satisfied: webdriver-manager in c:\\users\\vecto\\appdata\\local\\programs\\python\\python311\\lib\\site-packages (3.8.6)\n",
      "Collecting webdriver-manager\n",
      "  Obtaining dependency information for webdriver-manager from https://files.pythonhosted.org/packages/b5/b5/3bd0b038d80950ec13e6a2c8d03ed8354867dc60064b172f2f4ffac8afbe/webdriver_manager-4.0.2-py2.py3-none-any.whl.metadata\n",
      "  Downloading webdriver_manager-4.0.2-py2.py3-none-any.whl.metadata (12 kB)\n",
      "Requirement already satisfied: requests in c:\\users\\vecto\\appdata\\roaming\\python\\python311\\site-packages (from webdriver-manager) (2.31.0)\n",
      "Requirement already satisfied: python-dotenv in c:\\users\\vecto\\appdata\\local\\programs\\python\\python311\\lib\\site-packages (from webdriver-manager) (1.0.0)\n",
      "Requirement already satisfied: packaging in c:\\users\\vecto\\appdata\\local\\programs\\python\\python311\\lib\\site-packages (from webdriver-manager) (23.1)\n",
      "Requirement already satisfied: charset-normalizer<4,>=2 in c:\\users\\vecto\\appdata\\local\\programs\\python\\python311\\lib\\site-packages (from requests->webdriver-manager) (3.1.0)\n",
      "Requirement already satisfied: idna<4,>=2.5 in c:\\users\\vecto\\appdata\\local\\programs\\python\\python311\\lib\\site-packages (from requests->webdriver-manager) (3.4)\n",
      "Requirement already satisfied: urllib3<3,>=1.21.1 in c:\\users\\vecto\\appdata\\local\\programs\\python\\python311\\lib\\site-packages (from requests->webdriver-manager) (1.26.15)\n",
      "Requirement already satisfied: certifi>=2017.4.17 in c:\\users\\vecto\\appdata\\local\\programs\\python\\python311\\lib\\site-packages (from requests->webdriver-manager) (2023.5.7)\n",
      "Downloading webdriver_manager-4.0.2-py2.py3-none-any.whl (27 kB)\n",
      "Installing collected packages: webdriver-manager\n",
      "  Attempting uninstall: webdriver-manager\n",
      "    Found existing installation: webdriver-manager 3.8.6\n",
      "    Uninstalling webdriver-manager-3.8.6:\n",
      "      Successfully uninstalled webdriver-manager-3.8.6\n",
      "Successfully installed webdriver-manager-4.0.2\n"
     ]
    },
    {
     "name": "stderr",
     "output_type": "stream",
     "text": [
      "\n",
      "[notice] A new release of pip is available: 23.2.1 -> 24.3.1\n",
      "[notice] To update, run: python.exe -m pip install --upgrade pip\n"
     ]
    }
   ],
   "source": [
    "! pip install selenium beautifulsoup4 >/dev/null 2>&1 #old trick not to printout the output\n",
    "! pip install --upgrade selenium >/dev/null 2>&1\n",
    "! pip install --upgrade webdriver-manager >/dev/null 2>&1"
   ]
  },
  {
   "cell_type": "code",
   "execution_count": 1,
   "metadata": {},
   "outputs": [],
   "source": [
    "import os\n",
    "import time\n",
    "import requests\n",
    "import platform\n",
    "from time import time\n",
    "from selenium import webdriver\n",
    "from selenium.webdriver.chrome.service import Service\n",
    "from webdriver_manager.chrome import ChromeDriverManager\n",
    "from selenium.webdriver.common.by import By\n",
    "from selenium.webdriver.support.ui import WebDriverWait\n",
    "from selenium.webdriver.support import expected_conditions as EC\n",
    "from selenium.webdriver.chrome.service import Service\n",
    "from selenium.webdriver.common.by import By\n",
    "from concurrent.futures import ThreadPoolExecutor, as_completed\n",
    "from webdriver_manager.chrome import ChromeDriverManager"
   ]
  },
  {
   "cell_type": "code",
   "execution_count": 2,
   "metadata": {},
   "outputs": [
    {
     "data": {
      "text/plain": [
       "'4.26.1'"
      ]
     },
     "execution_count": 2,
     "metadata": {},
     "output_type": "execute_result"
    }
   ],
   "source": [
    "import selenium\n",
    "selenium.__version__"
   ]
  },
  {
   "cell_type": "markdown",
   "metadata": {},
   "source": [
    "#### Enum Objects\n"
   ]
  },
  {
   "cell_type": "code",
   "execution_count": 3,
   "metadata": {},
   "outputs": [],
   "source": [
    "from enum import Enum\n",
    "\n",
    "class WebDriverPaths(Enum):\n",
    "    WINDOWS = \"../Drivers/Windows/chromedriver.exe\"\n",
    "    MAC = \"E:\\oneDrive\\OneDrive - UCB-O365\\classes\\data-mining\\datamining-project\\firstDraft\\data-preprocessing\\cleaning\\Drivers\\Mac\\chromedriver\""
   ]
  },
  {
   "cell_type": "markdown",
   "metadata": {},
   "source": [
    "#### Set environmental variables"
   ]
  },
  {
   "cell_type": "code",
   "execution_count": 5,
   "metadata": {},
   "outputs": [
    {
     "name": "stdout",
     "output_type": "stream",
     "text": [
      "This is Windows\n"
     ]
    }
   ],
   "source": [
    "website_url = \"https://www.sec.gov/data-research/financial-statement-notes-data-sets\"\n",
    "driver_env = WebDriverPaths.WINDOWS.value #Default\n",
    "download_directory = 'firstDraft/data-preprocessing/cleaning/Data/NVDA/unprocessedData' \n",
    "chunk_size = 10 * 1024 * 1024\n",
    "headers = {'User-Agent': 'vijaysbOT/1.'}\n",
    "\n",
    "if platform.system() == \"Darwin\":\n",
    "    driver_env = WebDriverPaths.MAC.value\n",
    "elif platform.system() == \"Windows\":\n",
    "    print(\"This is Windows\")\n",
    "    driver_env = WebDriverPaths.WINDOWS.value\n",
    "\n",
    "    \n"
   ]
  },
  {
   "cell_type": "code",
   "execution_count": 6,
   "metadata": {},
   "outputs": [
    {
     "name": "stderr",
     "output_type": "stream",
     "text": [
      "'dpkg' is not recognized as an internal or external command,\n",
      "operable program or batch file.\n"
     ]
    }
   ],
   "source": [
    "! dpkg -L chromium-chromedriver"
   ]
  },
  {
   "cell_type": "code",
   "execution_count": 6,
   "metadata": {},
   "outputs": [],
   "source": [
    "from selenium import webdriver\n",
    "from selenium.webdriver.chrome.service import Service\n",
    "\n",
    "\n",
    "driver = webdriver.Chrome(service=Service(ChromeDriverManager().install()))\n",
    "driver.get(\"https://www.google.com\")"
   ]
  },
  {
   "cell_type": "code",
   "execution_count": null,
   "metadata": {},
   "outputs": [
    {
     "name": "stdout",
     "output_type": "stream",
     "text": [
      "Downloaded (1/1): 2024_10_notes.zip\n"
     ]
    }
   ],
   "source": [
    "# def download_sec_files(download_directory,  max_files=50):\n",
    "#     if not os.path.exists(download_directory):\n",
    "#         os.makedirs(download_directory)\n",
    "#     chrome_options = webdriver.ChromeOptions()\n",
    "#     prefs = {'download.default_directory': download_directory}\n",
    "#     chrome_options.add_experimental_option('prefs', prefs)\n",
    "#     # chrome_options.add_argument(\"--headless\")  # Run in headless mode\n",
    "#     # chrome_options.add_argument(\"--disable-gpu\")\n",
    "#     # chrome_options.add_argument(\"--no-sandbox\")\n",
    "#     # chrome_options.add_argument(\"--disable-dev-shm-usage\")\n",
    "#     headers = {'User-Agent': 'vijaysbOT/1.'} # Bypass the bot detection\n",
    "    \n",
    "#     try:\n",
    "#         driver = webdriver.Chrome(service=Service(ChromeDriverManager().install()), options=chrome_options)\n",
    "#     except Exception as e:\n",
    "#         print(f\"Error initializing WebDriver: {e}\")\n",
    "#         return\n",
    "\n",
    "#     try:\n",
    "#         driver.get(website_url)\n",
    "\n",
    "#         download_links = driver.find_elements(By.XPATH, \"//a[contains(@href, '.zip')]\")\n",
    "\n",
    "#         for index, link in enumerate(download_links[:max_files]):\n",
    "#             file_url = link.get_attribute('href')\n",
    "#             if file_url.endswith('.zip'):\n",
    "\n",
    "#                 file_name = os.path.basename(file_url)\n",
    "#                 file_path = os.path.join(download_directory, file_name)\n",
    "\n",
    "#                 response = requests.get(file_url, headers=headers, stream = True)\n",
    "#                 if response.status_code == 200:\n",
    "#                     with open(file_path, 'wb') as file:\n",
    "#                         for chunk in response.iter_content(chunk_size=chunk_size):\n",
    "#                             file.write(chunk)\n",
    "#                     print(f\"Downloaded ({index + 1}/{max_files}): {file_name}\")\n",
    "#                 else:\n",
    "#                     print(f\"Failed to download ({index + 1}/{max_files}): {file_name}\")\n",
    "\n",
    "\n",
    "#                 time.sleep(3)\n",
    "#     finally:\n",
    "#         driver.quit()\n",
    "\n",
    "# download_sec_files(download_directory, max_files=1)"
   ]
  },
  {
   "cell_type": "code",
   "execution_count": 8,
   "metadata": {},
   "outputs": [],
   "source": [
    "def download_file(file_url, index, max_files):\n",
    "    file_name = os.path.basename(file_url)\n",
    "    file_path = os.path.join(download_directory, file_name)\n",
    "    try:\n",
    "        response = requests.get(file_url, headers=headers, stream=True, timeout=200)\n",
    "        response.raise_for_status()\n",
    "        with open(file_path, 'wb') as file:\n",
    "            for chunk in response.iter_content(chunk_size=chunk_size):\n",
    "                file.write(chunk)\n",
    "        print(f\"Downloaded ({index + 1}/{max_files}): {file_name}\")\n",
    "    except requests.exceptions.RequestException as e:\n",
    "        print(f\"Failed to download ({index + 1}/{max_files}): {file_name} - {e}\")"
   ]
  },
  {
   "cell_type": "code",
   "execution_count": null,
   "metadata": {},
   "outputs": [
    {
     "name": "stdout",
     "output_type": "stream",
     "text": [
      "Downloaded (5/55): 2024_06_notes.zip\n",
      "Downloaded (2/55): 2024_09_notes.zip\n",
      "Downloaded (4/55): 2024_07_notes.zip\n",
      "Downloaded (8/55): 2024_03_notes.zip\n",
      "Downloaded (1/55): 2024_10_notes.zip\n",
      "Downloaded (10/55): 2024_01_notes.zip\n",
      "Downloaded (3/55): 2024_08_notes.zip\n",
      "Downloaded (11/55): 2023_12_notes.zip\n",
      "Downloaded (13/55): 2023_10_notes.zip\n",
      "Downloaded (7/55): 2024_04_notes.zip\n",
      "Downloaded (6/55): 2024_05_notes.zip\n",
      "Downloaded (12/55): 2023_11_notes.zip\n",
      "Downloaded (15/55): 2023q2_notes.zip\n",
      "Downloaded (9/55): 2024_02_notes.zip\n",
      "Downloaded (17/55): 2022q4_notes.zip\n",
      "Downloaded (18/55): 2022q3_notes.zip\n",
      "Downloaded (14/55): 2023q3_notes.zip\n",
      "Downloaded (19/55): 2022q2_notes.zip\n",
      "Downloaded (16/55): 2023q1_notes.zip\n",
      "Downloaded (20/55): 2022q1_notes.zip\n",
      "Downloaded (23/55): 2021q2_notes.zip\n",
      "Downloaded (22/55): 2021q3_notes.zip\n",
      "Downloaded (21/55): 2021q4_notes.zip\n",
      "Downloaded (27/55): 2020q2_notes.zip\n",
      "Downloaded (25/55): 2020q4_notes.zip\n",
      "Downloaded (24/55): 2021q1_notes.zip\n",
      "Downloaded (26/55): 2020q3_notes.zip\n",
      "Downloaded (29/55): 2019q4_notes.zip\n",
      "Downloaded (28/55): 2020q1_notes.zip\n",
      "Downloaded (30/55): 2019q3_notes.zip\n",
      "Downloaded (34/55): 2018q3_notes.zip\n",
      "Downloaded (32/55): 2019q1_notes.zip\n",
      "Downloaded (35/55): 2018q2_notes.zip\n",
      "Downloaded (33/55): 2018q4_notes.zip\n",
      "Downloaded (39/55): 2017q2_notes.zip\n",
      "Downloaded (31/55): 2019q2_notes.zip\n",
      "Downloaded (37/55): 2017q4_notes.zip\n",
      "Downloaded (41/55): 2016q4_notes.zip\n",
      "Downloaded (36/55): 2018q1_notes.zip\n",
      "Downloaded (42/55): 2016q3_notes.zip\n",
      "Downloaded (38/55): 2017q3_notes.zip\n",
      "Downloaded (40/55): 2017q1_notes.zip\n",
      "Downloaded (46/55): 2015q3_notes.zip\n",
      "Downloaded (45/55): 2015q4_notes.zip\n",
      "Downloaded (43/55): 2016q2_notes.zip\n",
      "Downloaded (49/55): 2014q4_notes.zip\n",
      "Downloaded (50/55): 2014q3_notes.zip\n",
      "Downloaded (47/55): 2015q2_notes.zip\n",
      "Downloaded (51/55): 2014q2_notes.zip\n",
      "Downloaded (44/55): 2016q1_notes.zip\n",
      "Downloaded (48/55): 2015q1_notes.zip\n",
      "Downloaded (52/55): 2014q1_notes.zip\n",
      "Downloaded (53/55): 2013q4_notes.zip\n",
      "Downloaded (54/55): 2013q3_notes.zip\n",
      "Downloaded (55/55): 2013q2_notes.zip\n"
     ]
    }
   ],
   "source": [
    "def download_sec_files(download_directory,  max_files=50):\n",
    "    if not os.path.exists(download_directory):\n",
    "        os.makedirs(download_directory)\n",
    "    chrome_options = webdriver.ChromeOptions()\n",
    "    prefs = {'download.default_directory': download_directory}\n",
    "    chrome_options.add_experimental_option('prefs', prefs) \n",
    "    try:\n",
    "        driver = webdriver.Chrome(service=Service(ChromeDriverManager().install()), options=chrome_options)\n",
    "    except Exception as e:\n",
    "        print(f\"Error initializing WebDriver: {e}\")\n",
    "        return\n",
    "    try:\n",
    "        driver.get(website_url)\n",
    "        download_links = driver.find_elements(By.XPATH, \"//a[contains(@href, '.zip')]\")\n",
    "        download_links = download_links[:max_files]  # Limit to max_files\n",
    "        file_urls = [link.get_attribute('href') for link in download_links]\n",
    "        with ThreadPoolExecutor(max_workers=5) as executor:\n",
    "            futures = {executor.submit(download_file, url, idx, max_files): idx for idx, url in enumerate(file_urls)}\n",
    "            for future in as_completed(futures):\n",
    "                future.result()\n",
    "    finally:\n",
    "        driver.quit()\n",
    "\n",
    "download_sec_files(download_directory, max_files=55)"
   ]
  }
 ],
 "metadata": {
  "kernelspec": {
   "display_name": "Python 3",
   "language": "python",
   "name": "python3"
  },
  "language_info": {
   "codemirror_mode": {
    "name": "ipython",
    "version": 3
   },
   "file_extension": ".py",
   "mimetype": "text/x-python",
   "name": "python",
   "nbconvert_exporter": "python",
   "pygments_lexer": "ipython3",
   "version": "3.11.4"
  }
 },
 "nbformat": 4,
 "nbformat_minor": 2
}

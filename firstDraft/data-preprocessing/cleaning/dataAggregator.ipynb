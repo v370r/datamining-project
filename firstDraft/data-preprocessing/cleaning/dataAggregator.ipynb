{
 "cells": [
  {
   "cell_type": "markdown",
   "metadata": {},
   "source": [
    "### Data unZip and parse to a file"
   ]
  },
  {
   "cell_type": "markdown",
   "metadata": {},
   "source": [
    "#### Data Unzip"
   ]
  },
  {
   "cell_type": "markdown",
   "metadata": {},
   "source": [
    "#### imports"
   ]
  },
  {
   "cell_type": "code",
   "execution_count": 1,
   "metadata": {},
   "outputs": [],
   "source": [
    "import os\n",
    "import zipfile\n",
    "import time\n",
    "import concurrent.futures as cf"
   ]
  },
  {
   "cell_type": "markdown",
   "metadata": {},
   "source": [
    "Constants"
   ]
  },
  {
   "cell_type": "code",
   "execution_count": 4,
   "metadata": {},
   "outputs": [],
   "source": [
    "zip_folderPath = \"firstDraft/data-preprocessing/cleaning/Data/NVDA/unprocessedData/\"\n",
    "unZipPath = \"firstDraft/data-preprocessing/cleaning/Data/AAPL/processedData/\"\n",
    "max_workers = 10"
   ]
  },
  {
   "cell_type": "markdown",
   "metadata": {},
   "source": [
    "Functions"
   ]
  },
  {
   "cell_type": "code",
   "execution_count": 5,
   "metadata": {},
   "outputs": [],
   "source": [
    "def extractToSubfolder(zipPath, unzipPath):\n",
    "    os.makedirs(unzipPath, exist_ok=True)\n",
    "    for filename in os.listdir(zipPath):\n",
    "        if filename.endswith('.zip'):\n",
    "            zip_path = os.path.join(zipPath, filename)\n",
    "            with zipfile.ZipFile(zip_path, 'r') as zip_ref:\n",
    "                extract_folder = os.path.join(unzipPath, os.path.splitext(filename)[0])\n",
    "                os.makedirs(extract_folder, exist_ok=True)\n",
    "                zip_ref.extractall(extract_folder)\n",
    "                print(f'Extracted {filename} to {extract_folder}')"
   ]
  },
  {
   "cell_type": "markdown",
   "metadata": {},
   "source": [
    "Extract to subfolder"
   ]
  },
  {
   "cell_type": "code",
   "execution_count": null,
   "metadata": {},
   "outputs": [],
   "source": [
    "# extractToSubfolder(zip_folderPath, unZipPath)"
   ]
  },
  {
   "cell_type": "markdown",
   "metadata": {},
   "source": []
  },
  {
   "cell_type": "code",
   "execution_count": 6,
   "metadata": {},
   "outputs": [
    {
     "data": {
      "text/plain": [
       "['2013q2_notes.zip']"
      ]
     },
     "execution_count": 6,
     "metadata": {},
     "output_type": "execute_result"
    }
   ],
   "source": [
    "os.listdir(zip_folderPath)[:1]"
   ]
  },
  {
   "cell_type": "code",
   "execution_count": 4,
   "metadata": {},
   "outputs": [
    {
     "name": "stdout",
     "output_type": "stream",
     "text": [
      "Starting extraction\n",
      "Extracted 2015q3_notes to firstDraft/data-preprocessing/cleaning/Data/NVDA/processedData/2015q3_notes\n",
      "Completed extraction for firstDraft/data-preprocessing/cleaning/Data/NVDA/unprocessedData/2015q3_notes.zip\n",
      "Completed: None\n",
      "Extracted 2014q3_notes to firstDraft/data-preprocessing/cleaning/Data/NVDA/processedData/2014q3_notes\n",
      "Completed extraction for firstDraft/data-preprocessing/cleaning/Data/NVDA/unprocessedData/2014q3_notes.zip\n",
      "Completed: None\n",
      "Extracted 2015q2_notes to firstDraft/data-preprocessing/cleaning/Data/NVDA/processedData/2015q2_notes\n",
      "Completed extraction for firstDraft/data-preprocessing/cleaning/Data/NVDA/unprocessedData/2015q2_notes.zip\n",
      "Completed: None\n",
      "Extracted 2014q4_notes to firstDraft/data-preprocessing/cleaning/Data/NVDA/processedData/2014q4_notes\n",
      "Completed extraction for firstDraft/data-preprocessing/cleaning/Data/NVDA/unprocessedData/2014q4_notes.zip\n",
      "Completed: None\n",
      "Extracted 2014q2_notes to firstDraft/data-preprocessing/cleaning/Data/NVDA/processedData/2014q2_notes\n",
      "Completed extraction for firstDraft/data-preprocessing/cleaning/Data/NVDA/unprocessedData/2014q2_notes.zip\n",
      "Completed: None\n",
      "Extracted 2013q3_notes to firstDraft/data-preprocessing/cleaning/Data/NVDA/processedData/2013q3_notes\n",
      "Completed extraction for firstDraft/data-preprocessing/cleaning/Data/NVDA/unprocessedData/2013q3_notes.zip\n",
      "Completed: None\n",
      "Extracted 2013q4_notes to firstDraft/data-preprocessing/cleaning/Data/NVDA/processedData/2013q4_notes\n",
      "Completed extraction for firstDraft/data-preprocessing/cleaning/Data/NVDA/unprocessedData/2013q4_notes.zip\n",
      "Completed: None\n",
      "Extracted 2013q2_notes to firstDraft/data-preprocessing/cleaning/Data/NVDA/processedData/2013q2_notes\n",
      "Completed extraction for firstDraft/data-preprocessing/cleaning/Data/NVDA/unprocessedData/2013q2_notes.zip\n",
      "Completed: None\n",
      "Extracted 2015q1_notes to firstDraft/data-preprocessing/cleaning/Data/NVDA/processedData/2015q1_notes\n",
      "Completed extraction for firstDraft/data-preprocessing/cleaning/Data/NVDA/unprocessedData/2015q1_notes.zip\n",
      "Completed: None\n",
      "Extracted 2014q1_notes to firstDraft/data-preprocessing/cleaning/Data/NVDA/processedData/2014q1_notes\n",
      "Completed extraction for firstDraft/data-preprocessing/cleaning/Data/NVDA/unprocessedData/2014q1_notes.zip\n",
      "Completed: None\n",
      "Extracted 2016q3_notes to firstDraft/data-preprocessing/cleaning/Data/NVDA/processedData/2016q3_notes\n",
      "Completed extraction for firstDraft/data-preprocessing/cleaning/Data/NVDA/unprocessedData/2016q3_notes.zip\n",
      "Completed: None\n",
      "Extracted 2015q4_notes to firstDraft/data-preprocessing/cleaning/Data/NVDA/processedData/2015q4_notes\n",
      "Completed extraction for firstDraft/data-preprocessing/cleaning/Data/NVDA/unprocessedData/2015q4_notes.zip\n",
      "Completed: None\n",
      "Extracted 2016q4_notes to firstDraft/data-preprocessing/cleaning/Data/NVDA/processedData/2016q4_notes\n",
      "Completed extraction for firstDraft/data-preprocessing/cleaning/Data/NVDA/unprocessedData/2016q4_notes.zip\n",
      "Completed: None\n",
      "Extracted 2016q2_notes to firstDraft/data-preprocessing/cleaning/Data/NVDA/processedData/2016q2_notes\n",
      "Completed extraction for firstDraft/data-preprocessing/cleaning/Data/NVDA/unprocessedData/2016q2_notes.zip\n",
      "Completed: None\n",
      "Extracted 2017q3_notes to firstDraft/data-preprocessing/cleaning/Data/NVDA/processedData/2017q3_notes\n",
      "Completed extraction for firstDraft/data-preprocessing/cleaning/Data/NVDA/unprocessedData/2017q3_notes.zip\n",
      "Completed: None\n",
      "Extracted 2017q2_notes to firstDraft/data-preprocessing/cleaning/Data/NVDA/processedData/2017q2_notes\n",
      "Completed extraction for firstDraft/data-preprocessing/cleaning/Data/NVDA/unprocessedData/2017q2_notes.zip\n",
      "Completed: None\n",
      "Extracted 2017q4_notes to firstDraft/data-preprocessing/cleaning/Data/NVDA/processedData/2017q4_notes\n",
      "Completed extraction for firstDraft/data-preprocessing/cleaning/Data/NVDA/unprocessedData/2017q4_notes.zip\n",
      "Completed: None\n",
      "Extracted 2016q1_notes to firstDraft/data-preprocessing/cleaning/Data/NVDA/processedData/2016q1_notes\n",
      "Completed extraction for firstDraft/data-preprocessing/cleaning/Data/NVDA/unprocessedData/2016q1_notes.zip\n",
      "Completed: None\n",
      "Extracted 2017q1_notes to firstDraft/data-preprocessing/cleaning/Data/NVDA/processedData/2017q1_notes\n",
      "Completed extraction for firstDraft/data-preprocessing/cleaning/Data/NVDA/unprocessedData/2017q1_notes.zip\n",
      "Completed: None\n",
      "Extracted 2018q1_notes to firstDraft/data-preprocessing/cleaning/Data/NVDA/processedData/2018q1_notes\n",
      "Completed extraction for firstDraft/data-preprocessing/cleaning/Data/NVDA/unprocessedData/2018q1_notes.zip\n",
      "Completed: None\n",
      "Extracted 2018q3_notes to firstDraft/data-preprocessing/cleaning/Data/NVDA/processedData/2018q3_notes\n",
      "Completed extraction for firstDraft/data-preprocessing/cleaning/Data/NVDA/unprocessedData/2018q3_notes.zip\n",
      "Completed: None\n",
      "Extracted 2018q4_notes to firstDraft/data-preprocessing/cleaning/Data/NVDA/processedData/2018q4_notes\n",
      "Completed extraction for firstDraft/data-preprocessing/cleaning/Data/NVDA/unprocessedData/2018q4_notes.zip\n",
      "Completed: None\n",
      "Extracted 2019q3_notes to firstDraft/data-preprocessing/cleaning/Data/NVDA/processedData/2019q3_notes\n",
      "Completed extraction for firstDraft/data-preprocessing/cleaning/Data/NVDA/unprocessedData/2019q3_notes.zip\n",
      "Completed: None\n",
      "Extracted 2018q2_notes to firstDraft/data-preprocessing/cleaning/Data/NVDA/processedData/2018q2_notes\n",
      "Completed extraction for firstDraft/data-preprocessing/cleaning/Data/NVDA/unprocessedData/2018q2_notes.zip\n",
      "Completed: None\n",
      "Extracted 2019q2_notes to firstDraft/data-preprocessing/cleaning/Data/NVDA/processedData/2019q2_notes\n",
      "Completed extraction for firstDraft/data-preprocessing/cleaning/Data/NVDA/unprocessedData/2019q2_notes.zip\n",
      "Completed: None\n",
      "Extracted 2019q4_notes to firstDraft/data-preprocessing/cleaning/Data/NVDA/processedData/2019q4_notes\n",
      "Completed extraction for firstDraft/data-preprocessing/cleaning/Data/NVDA/unprocessedData/2019q4_notes.zip\n",
      "Completed: None\n",
      "Extracted 2019q1_notes to firstDraft/data-preprocessing/cleaning/Data/NVDA/processedData/2019q1_notes\n",
      "Completed extraction for firstDraft/data-preprocessing/cleaning/Data/NVDA/unprocessedData/2019q1_notes.zip\n",
      "Completed: None\n",
      "Extracted 2020q2_notes to firstDraft/data-preprocessing/cleaning/Data/NVDA/processedData/2020q2_notes\n",
      "Completed extraction for firstDraft/data-preprocessing/cleaning/Data/NVDA/unprocessedData/2020q2_notes.zip\n",
      "Completed: None\n",
      "Extracted 2020q1_notes to firstDraft/data-preprocessing/cleaning/Data/NVDA/processedData/2020q1_notes\n",
      "Completed extraction for firstDraft/data-preprocessing/cleaning/Data/NVDA/unprocessedData/2020q1_notes.zip\n",
      "Completed: None\n",
      "Extracted 2020q3_notes to firstDraft/data-preprocessing/cleaning/Data/NVDA/processedData/2020q3_notes\n",
      "Completed extraction for firstDraft/data-preprocessing/cleaning/Data/NVDA/unprocessedData/2020q3_notes.zip\n",
      "Completed: None\n",
      "Extracted 2020q4_notes to firstDraft/data-preprocessing/cleaning/Data/NVDA/processedData/2020q4_notes\n",
      "Completed extraction for firstDraft/data-preprocessing/cleaning/Data/NVDA/unprocessedData/2020q4_notes.zip\n",
      "Completed: None\n",
      "Extracted 2021q3_notes to firstDraft/data-preprocessing/cleaning/Data/NVDA/processedData/2021q3_notes\n",
      "Completed extraction for firstDraft/data-preprocessing/cleaning/Data/NVDA/unprocessedData/2021q3_notes.zip\n",
      "Completed: None\n",
      "Extracted 2021q2_notes to firstDraft/data-preprocessing/cleaning/Data/NVDA/processedData/2021q2_notes\n",
      "Completed extraction for firstDraft/data-preprocessing/cleaning/Data/NVDA/unprocessedData/2021q2_notes.zip\n",
      "Completed: None\n",
      "Extracted 2021q4_notes to firstDraft/data-preprocessing/cleaning/Data/NVDA/processedData/2021q4_notes\n",
      "Completed extraction for firstDraft/data-preprocessing/cleaning/Data/NVDA/unprocessedData/2021q4_notes.zip\n",
      "Completed: None\n",
      "Extracted 2023_10_notes to firstDraft/data-preprocessing/cleaning/Data/NVDA/processedData/2023_10_notes\n",
      "Completed extraction for firstDraft/data-preprocessing/cleaning/Data/NVDA/unprocessedData/2023_10_notes.zip\n",
      "Completed: None\n",
      "Extracted 2021q1_notes to firstDraft/data-preprocessing/cleaning/Data/NVDA/processedData/2021q1_notes\n",
      "Completed extraction for firstDraft/data-preprocessing/cleaning/Data/NVDA/unprocessedData/2021q1_notes.zip\n",
      "Completed: None\n",
      "Extracted 2023_12_notes to firstDraft/data-preprocessing/cleaning/Data/NVDA/processedData/2023_12_notes\n",
      "Completed extraction for firstDraft/data-preprocessing/cleaning/Data/NVDA/unprocessedData/2023_12_notes.zip\n",
      "Completed: None\n",
      "Extracted 2024_01_notes to firstDraft/data-preprocessing/cleaning/Data/NVDA/processedData/2024_01_notes\n",
      "Completed extraction for firstDraft/data-preprocessing/cleaning/Data/NVDA/unprocessedData/2024_01_notes.zip\n",
      "Completed: None\n",
      "Extracted 2022q3_notes to firstDraft/data-preprocessing/cleaning/Data/NVDA/processedData/2022q3_notes\n",
      "Completed extraction for firstDraft/data-preprocessing/cleaning/Data/NVDA/unprocessedData/2022q3_notes.zip\n",
      "Completed: None\n",
      "Extracted 2022q2_notes to firstDraft/data-preprocessing/cleaning/Data/NVDA/processedData/2022q2_notes\n",
      "Completed extraction for firstDraft/data-preprocessing/cleaning/Data/NVDA/unprocessedData/2022q2_notes.zip\n",
      "Completed: None\n",
      "Extracted 2022q4_notes to firstDraft/data-preprocessing/cleaning/Data/NVDA/processedData/2022q4_notes\n",
      "Completed extraction for firstDraft/data-preprocessing/cleaning/Data/NVDA/unprocessedData/2022q4_notes.zip\n",
      "Completed: None\n",
      "Extracted 2022q1_notes to firstDraft/data-preprocessing/cleaning/Data/NVDA/processedData/2022q1_notes\n",
      "Completed extraction for firstDraft/data-preprocessing/cleaning/Data/NVDA/unprocessedData/2022q1_notes.zip\n",
      "Completed: None\n",
      "Extracted 2024_06_notes to firstDraft/data-preprocessing/cleaning/Data/NVDA/processedData/2024_06_notes\n",
      "Completed extraction for firstDraft/data-preprocessing/cleaning/Data/NVDA/unprocessedData/2024_06_notes.zip\n",
      "Completed: None\n",
      "Extracted 2024_04_notes to firstDraft/data-preprocessing/cleaning/Data/NVDA/processedData/2024_04_notes\n",
      "Completed extraction for firstDraft/data-preprocessing/cleaning/Data/NVDA/unprocessedData/2024_04_notes.zip\n",
      "Completed: None\n",
      "Extracted 2024_03_notes to firstDraft/data-preprocessing/cleaning/Data/NVDA/processedData/2024_03_notes\n",
      "Completed extraction for firstDraft/data-preprocessing/cleaning/Data/NVDA/unprocessedData/2024_03_notes.zip\n",
      "Completed: None\n",
      "Extracted 2023_11_notes to firstDraft/data-preprocessing/cleaning/Data/NVDA/processedData/2023_11_notes\n",
      "Completed extraction for firstDraft/data-preprocessing/cleaning/Data/NVDA/unprocessedData/2023_11_notes.zip\n",
      "Completed: None\n",
      "Extracted 2024_07_notes to firstDraft/data-preprocessing/cleaning/Data/NVDA/processedData/2024_07_notes\n",
      "Completed extraction for firstDraft/data-preprocessing/cleaning/Data/NVDA/unprocessedData/2024_07_notes.zip\n",
      "Completed: None\n",
      "Extracted 2023q2_notes to firstDraft/data-preprocessing/cleaning/Data/NVDA/processedData/2023q2_notes\n",
      "Completed extraction for firstDraft/data-preprocessing/cleaning/Data/NVDA/unprocessedData/2023q2_notes.zip\n",
      "Completed: None\n",
      "Extracted 2024_09_notes to firstDraft/data-preprocessing/cleaning/Data/NVDA/processedData/2024_09_notes\n",
      "Completed extraction for firstDraft/data-preprocessing/cleaning/Data/NVDA/unprocessedData/2024_09_notes.zip\n",
      "Completed: None\n",
      "Extracted 2023q3_notes to firstDraft/data-preprocessing/cleaning/Data/NVDA/processedData/2023q3_notes\n",
      "Completed extraction for firstDraft/data-preprocessing/cleaning/Data/NVDA/unprocessedData/2023q3_notes.zip\n",
      "Completed: None\n",
      "Extracted 2024_02_notes to firstDraft/data-preprocessing/cleaning/Data/NVDA/processedData/2024_02_notes\n",
      "Completed extraction for firstDraft/data-preprocessing/cleaning/Data/NVDA/unprocessedData/2024_02_notes.zip\n",
      "Completed: None\n",
      "Extracted 2023q1_notes to firstDraft/data-preprocessing/cleaning/Data/NVDA/processedData/2023q1_notes\n",
      "Completed extraction for firstDraft/data-preprocessing/cleaning/Data/NVDA/unprocessedData/2023q1_notes.zip\n",
      "Completed: None\n",
      "Extracted 2024_05_notes to firstDraft/data-preprocessing/cleaning/Data/NVDA/processedData/2024_05_notes\n",
      "Completed extraction for firstDraft/data-preprocessing/cleaning/Data/NVDA/unprocessedData/2024_05_notes.zip\n",
      "Completed: None\n",
      "Extracted 2024_10_notes to firstDraft/data-preprocessing/cleaning/Data/NVDA/processedData/2024_10_notes\n",
      "Completed extraction for firstDraft/data-preprocessing/cleaning/Data/NVDA/unprocessedData/2024_10_notes.zip\n",
      "Completed: None\n",
      "Extracted 2024_08_notes to firstDraft/data-preprocessing/cleaning/Data/NVDA/processedData/2024_08_notes\n",
      "Completed extraction for firstDraft/data-preprocessing/cleaning/Data/NVDA/unprocessedData/2024_08_notes.zip\n",
      "Completed: None\n",
      "All extractions completed.\n",
      "Time taken: 235.91 seconds\n"
     ]
    }
   ],
   "source": [
    "def extractToSubfolder(zipPath, unzipPath):\n",
    "    if (zipPath.endswith('.zip')):\n",
    "        os.makedirs(unzipPath, exist_ok=True)\n",
    "        # for filename in os.listdir(zipPath):\n",
    "        #     if filename.endswith('.zip'):\n",
    "                # zip_path = os.path.join(zipPath, filename)\n",
    "        fileName = os.path.splitext(os.path.basename(zipPath))[0]\n",
    "        with zipfile.ZipFile(zipPath, 'r') as zip_ref:\n",
    "            extract_folder = os.path.join(unzipPath, os.path.splitext(fileName)[0])\n",
    "            os.makedirs(extract_folder, exist_ok=True)\n",
    "            zip_ref.extractall(extract_folder)\n",
    "            print(f'Extracted {fileName} to {extract_folder}')\n",
    "        print(f'Completed extraction for {zipPath}')\n",
    "    else:\n",
    "        print(f'Invalid file type: {zipPath}')\n",
    "        return zipPath\n",
    "\n",
    "\n",
    "with cf.ThreadPoolExecutor(max_workers=max_workers) as executor:\n",
    "    print(f'Starting extraction')\n",
    "    start_time = time.time()\n",
    "    futures = [executor.submit(extractToSubfolder, os.path.join(zip_folderPath, filename), unZipPath) for filename in os.listdir(zip_folderPath)]\n",
    "    for future in cf.as_completed(futures):\n",
    "        try:\n",
    "            result = future.result()\n",
    "            print(f\"Completed: {result}\")\n",
    "        except Exception as e:\n",
    "            print(f\"Error: {e}\")\n",
    "print('All extractions completed.')\n",
    "\n",
    "end_time = time.time()\n",
    "print(f'Time taken: {end_time - start_time:.2f} seconds')"
   ]
  },
  {
   "cell_type": "code",
   "execution_count": null,
   "metadata": {},
   "outputs": [],
   "source": []
  }
 ],
 "metadata": {
  "kernelspec": {
   "display_name": "Python 3",
   "language": "python",
   "name": "python3"
  },
  "language_info": {
   "codemirror_mode": {
    "name": "ipython",
    "version": 3
   },
   "file_extension": ".py",
   "mimetype": "text/x-python",
   "name": "python",
   "nbconvert_exporter": "python",
   "pygments_lexer": "ipython3",
   "version": "3.11.4"
  }
 },
 "nbformat": 4,
 "nbformat_minor": 2
}

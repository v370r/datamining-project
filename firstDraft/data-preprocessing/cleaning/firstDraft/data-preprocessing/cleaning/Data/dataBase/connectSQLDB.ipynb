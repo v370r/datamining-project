{
 "cells": [
  {
   "cell_type": "markdown",
   "metadata": {},
   "source": [
    "\n"
   ]
  },
  {
   "cell_type": "markdown",
   "metadata": {},
   "source": [
    "#### Imports"
   ]
  },
  {
   "cell_type": "code",
   "execution_count": 78,
   "metadata": {},
   "outputs": [],
   "source": [
    "import sqlite3"
   ]
  },
  {
   "cell_type": "markdown",
   "metadata": {},
   "source": [
    "#### Constants"
   ]
  },
  {
   "cell_type": "code",
   "execution_count": 97,
   "metadata": {},
   "outputs": [],
   "source": [
    "def create_table(cursor):\n",
    "    cursor.execute('''\n",
    "    CREATE TABLE IF NOT EXISTS processedData (\n",
    "        id INTEGER PRIMARY KEY,\n",
    "        stockName TEXT NOT NULL,\n",
    "        time TEXT NOT NULL,\n",
    "        type TEXT NOT NULL,\n",
    "        tag TEXT NOT NULL,\n",
    "        value TEXT NOT NULL\n",
    "    )\n",
    "    ''')\n",
    "\n",
    "def insert_data(conn, cursor, stockName, time, type, tag, value):\n",
    "    try:\n",
    "        cursor.execute('''\n",
    "        INSERT INTO processedData (stockName, time, type, tag, value)\n",
    "        VALUES (?, ?, ?, ?, ?)\n",
    "        ''', (stockName,time, type, tag, value))\n",
    "        conn.commit()\n",
    "    except sqlite3.OperationalError as e:\n",
    "        print(f\"Error: {e}\")\n",
    "    finally:\n",
    "        cursor.close()\n",
    "        conn.close()\n",
    "\n",
    "# Increase timeout to handle database locked error\n",
    "conn = sqlite3.connect('processdDB.db', timeout=10)\n",
    "cursor = conn.cursor()\n",
    "\n",
    "# Uncomment to create the table if it doesn't exist\n",
    "create_table(cursor)\n",
    "\n",
    "# Insert data\n",
    "insert_data(conn, cursor, 'AAPL', '2025Qtest', 'stock', 'price', '100')"
   ]
  }
 ],
 "metadata": {
  "kernelspec": {
   "display_name": "Python 3",
   "language": "python",
   "name": "python3"
  },
  "language_info": {
   "codemirror_mode": {
    "name": "ipython",
    "version": 3
   },
   "file_extension": ".py",
   "mimetype": "text/x-python",
   "name": "python",
   "nbconvert_exporter": "python",
   "pygments_lexer": "ipython3",
   "version": "3.11.4"
  }
 },
 "nbformat": 4,
 "nbformat_minor": 2
}
